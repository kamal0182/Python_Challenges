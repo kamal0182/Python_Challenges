{
 "cells": [
  {
   "cell_type": "markdown",
   "id": "784cad32",
   "metadata": {},
   "source": [
    "\n",
    "<center>\n",
    "<H1><span style=\"text-align: center; font-weight: bold; color: #746bb3ff;\">Gestion de Fichiers</span></H1>\n",
    "</center>"
   ]
  },
  {
   "cell_type": "markdown",
   "id": "00451f59",
   "metadata": {},
   "source": [
    "<H3><span style=\"font-weight: bold ; color: #19b7f1ff\">Les ressources: </span></H3> \n",
    "\n",
    "* [Documentation Officielle de Python](https://docs.python.org/fr/3/tutorial/inputoutput.html#reading-and-writing-files)\n",
    "* [Reading and Writing Files in Python](https://realpython.com/read-write-files-python/)"
   ]
  },
  {
   "cell_type": "markdown",
   "id": "3d2ea4b9",
   "metadata": {},
   "source": [
    "<H3><span style=\"font-weight: bold; color: #1a8bcdff;\">Challenge 1 : Extraction et Traitement de Fichiers</span></H3>\n",
    "\n",
    "1. <span style=\"font-weight: bold; color: #e56922ff;\">Objectif</span> : </br>\n",
    "Lire plusieurs fichiers texte et combiner leur contenu.\n",
    "\n",
    "2. <span style=\"font-weight: bold; color: #e56922ff;\">Travail à faire</span>:</br>\n",
    "* Utilisez os.listdir() pour lister tous les fichiers texte dans un répertoire.\n",
    "* Utilisez open() pour lire chaque fichier et extraire son contenu.\n",
    "* Combinez le contenu de tous les fichiers en un seul texte."
   ]
  },
  {
   "cell_type": "code",
   "execution_count": null,
   "id": "21b6f2cb",
   "metadata": {},
   "outputs": [],
   "source": [
    "#  Écrivez du code Python ici\n",
    "import os\n",
    "path = \"C:/Users/kamal/OneDrive/Desktop/warmup_Challenges/Python_Challenges/Filles\"\n",
    "contente = os.listdir(path)\n",
    "k = \"\"\n",
    "for  i in contente :\n",
    "    x  = path  +   \"/\" + i\n",
    "    with open(x ,'r') as f : \n",
    "        k+=f.read()\n",
    "        x  = path  +   \"/\" +\"third_file\"\n",
    "with open(x ,'w') as f :\n",
    "        f.write(k)   \n",
    "\n",
    "\n"
   ]
  },
  {
   "cell_type": "markdown",
   "id": "5240bc4e",
   "metadata": {},
   "source": [
    "<H3><span style=\"font-weight: bold; color: #1a8bcdff;\">Challenge 2 : Recherche de Fichiers</span></H3>\n",
    "\n",
    "1. <span style=\"font-weight: bold; color: #e56922ff;\">Objectif</span> : </br>\n",
    "Vérifier l'existence de fichiers spécifiques et les traiter.\n",
    "\n",
    "2. <span style=\"font-weight: bold; color: #e56922ff;\">Travail à faire</span>:</br>\n",
    "* Utilisez os.path.exists() pour vérifier si des fichiers de configuration (config.yaml) existent dans un répertoire donné.\n",
    "* Si le fichier existe, ouvrez-le et affichez son contenu."
   ]
  },
  {
   "cell_type": "code",
   "execution_count": null,
   "id": "fa5797e7",
   "metadata": {},
   "outputs": [
    {
     "name": "stdout",
     "output_type": "stream",
     "text": [
      "\n",
      "\n"
     ]
    }
   ],
   "source": [
    "#  Écrivez du code Python ici\n",
    "for i in contente :\n",
    "    Fule_Path_File = path+\"/\"+i\n",
    "    if  os.path.exists(Fule_Path_File) :\n",
    "        with open(Fule_Path_File , 'r') as f :\n",
    "            print(f.read())\n",
    "            \n"
   ]
  },
  {
   "cell_type": "markdown",
   "id": "c9850348",
   "metadata": {},
   "source": [
    "<H3><span style=\"font-weight: bold; color: #1a8bcdff;\">Challenge 4 : Création de Répertoires</span></H3>\n",
    "\n",
    "1. <span style=\"font-weight: bold; color: #e56922ff;\">Objectif</span> : </br>\n",
    "Créer une    à partir d'une liste de noms.\n",
    "\n",
    "2. <span style=\"font-weight: bold; color: #e56922ff;\">Travail à faire</span>:</br>\n",
    "* Utilisez os.mkdir() pour créer un répertoire principal.\n",
    "* Créez plusieurs sous-répertoires à l'intérieur du répertoire principal en utilisant une liste de noms."
   ]
  },
  {
   "cell_type": "code",
   "execution_count": null,
   "id": "07f28968",
   "metadata": {},
   "outputs": [],
   "source": [
    "#  Écrivez du code Python ici\n",
    "import os\n",
    "list  = [\"Chelsea\" , \"Bayern_Munich\" , \"liverpool\" , \"atletico_madrid\"]\n",
    "champions_league_Directory = os.mkdir(\"Champions_league_Directory\")\n",
    "path = os.getcwd()\n",
    "for  i in list  :\n",
    "    new_path = path + \"/Champions_league_Directory/\" + i\n",
    "    os.mkdir(\"Champions_league_Directory/\"+i)"
   ]
  },
  {
   "cell_type": "markdown",
   "id": "70d5c0f1",
   "metadata": {},
   "source": [
    "<H3><span style=\"font-weight: bold; color: #1a8bcdff;\">Challenge 5 : Copie Sélective de Fichiers</span></H3>\n",
    "\n",
    "1. <span style=\"font-weight: bold; color: #e56922ff;\">Objectif</span> : </br>\n",
    "Copier des fichiers spécifiques d'un répertoire à un autre.\n",
    "\n",
    "2. <span style=\"font-weight: bold; color: #e56922ff;\">Travail à faire</span>:</br>\n",
    "* Utilisez os.listdir() pour lister tous les fichiers dans un répertoire source.\n",
    "* Utilisez shutil.copy() pour copier uniquement les fichiers avec une extension spécifique (par exemple, .csv) vers un répertoire de destination."
   ]
  },
  {
   "cell_type": "code",
   "execution_count": null,
   "id": "d723fec4",
   "metadata": {},
   "outputs": [
    {
     "name": "stdout",
     "output_type": "stream",
     "text": [
      "['file.txt', 'fille2.txt']\n",
      "['file.txt', 'fille2.txt']\n",
      "['file.txt', 'fille2.txt', 'test.txt']\n"
     ]
    }
   ],
   "source": [
    "#  Écrivez du code Python ici\n",
    "import shutil\n",
    "contente = os.listdir(path+\"/Filles\")\n",
    "for item in contente :\n",
    "    spliting_ext = item.split(\".\")\n",
    "    if spliting_ext[1] == \"txt\" :\n",
    "        shutil.copy(path+\"\\\\Filles\\\\\"+item  ,path+\"\\\\shutil\" )\n",
    "        shutil_list = os.listdir(path + \"/shutil\")\n",
    "        print(shutil_list)"
   ]
  },
  {
   "cell_type": "markdown",
   "id": "860b9d43",
   "metadata": {},
   "source": [
    "<H3><span style=\"font-weight: bold; color: #1a8bcdff;\">Challenge 6 : Écriture de Fichiers</span></H3>\n",
    "\n",
    "1. <span style=\"font-weight: bold; color: #e56922ff;\">Objectif</span> : </br>\n",
    "Écrire du contenu dans un fichier texte.\n",
    "\n",
    "2. <span style=\"font-weight: bold; color: #e56922ff;\">Travail à faire</span>:</br>\n",
    "* Utilisez open() en mode écriture pour créer un nouveau fichier texte.\n",
    "* Écrivez des lignes de texte dans le fichier en utilisant une boucle.\n",
    "* Fermez le fichier et vérifiez que les données ont été correctement enregistrées."
   ]
  },
  {
   "cell_type": "code",
   "execution_count": null,
   "id": "bacbe689",
   "metadata": {},
   "outputs": [
    {
     "name": "stdout",
     "output_type": "stream",
     "text": [
      "['Ascascascasc\\n', 'Ascascsca\\n', 'AScascascascasc123412e\\n']\n",
      "the data saved correctly\n"
     ]
    }
   ],
   "source": [
    "#  Écrivez du code Python ici\n",
    "lists = [\"Ascascascasc\" , \"Ascascsca\", \"AScascascascasc123412e\"]\n",
    "with open(path+\"/Filles/test.txt\" , \"w\") as f :\n",
    "    for i in lists :\n",
    "        f.write(f\"{i}\\n\")\n",
    "exist  = 0 \n",
    "with open(path+\"/Filles/test.txt\" , \"r\") as f :\n",
    "    lines = f.readlines()\n",
    "    for i in lists :\n",
    "        i = i+\"\\n\"\n",
    "        if i in lines :\n",
    "            exist +=1\n",
    "\n",
    "if exist == len(lists) : \n",
    "    print(\"the data saved correctly\") \n",
    "\n",
    "    \n",
    "\n",
    "    \n"
   ]
  },
  {
   "cell_type": "markdown",
   "id": "27cd8680",
   "metadata": {},
   "source": []
  }
 ],
 "metadata": {
  "kernelspec": {
   "display_name": "Python 3",
   "language": "python",
   "name": "python3"
  },
  "language_info": {
   "codemirror_mode": {
    "name": "ipython",
    "version": 3
   },
   "file_extension": ".py",
   "mimetype": "text/x-python",
   "name": "python",
   "nbconvert_exporter": "python",
   "pygments_lexer": "ipython3",
   "version": "3.13.7"
  }
 },
 "nbformat": 4,
 "nbformat_minor": 5
}
