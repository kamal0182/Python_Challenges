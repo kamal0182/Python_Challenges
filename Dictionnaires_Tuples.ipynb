{
 "cells": [
  {
   "cell_type": "markdown",
   "id": "914e84e2",
   "metadata": {},
   "source": [
    "<center>\n",
    "<H1><span style=\"text-align: center; font-weight: bold; color: #746bb3ff;\">Les Dictionnaires & Tuples</span></H1>\n",
    "</center>"
   ]
  },
  {
   "cell_type": "markdown",
   "id": "4904b5d8",
   "metadata": {},
   "source": [
    "<H3><span style=\"font-weight: bold ; color: #19b7f1ff\">Les ressources: </span></H3> \n",
    "\n",
    "**Documentation Officielle** : \n",
    "* [Dictionnaires](https://docs.python.org/fr/3/tutorial/datastructures.html#dictionaries) \n",
    "* [Tuples](https://docs.python.org/fr/3/tutorial/datastructures.html#tuples-and-sequences)"
   ]
  },
  {
   "cell_type": "markdown",
   "id": "6ba65839",
   "metadata": {},
   "source": [
    "<H3><span style=\"font-weight: bold; color: #1a8bcdff;\">Challenge 1 : Manipulation des dictionnaires Python</span></H3>\n",
    "\n",
    "1. <span style=\"font-weight: bold; color: #e56922ff;\">Objectif</span> : </br>\n",
    "Apprendre à manipuler des dictionnaires en Python à travers plusieurs opérations clés\n",
    "\n",
    "2. <span style=\"font-weight: bold; color: #e56922ff;\">Travail à faire</span>:</br>\n",
    "Considérons le dictionnaire suivant :\n",
    "\n",
    "<code>\n",
    "First_dict = { \"Appareil\": \"Laptop\", \"Marque\": \"IBM\", \"Carte mère\": \"MSI Z490\", \"Carte Graphique\":\"GeForce RTX 3070\", \"RAM\": \"16G\", \"Processeur\": \"Intel core i7-G11\", \"SSD\": \"1 To\" }    </code>\n",
    "\n",
    "- *Parti 1:* Écris un programme Python qui effectue les opérations suivantes :\n",
    "\n",
    "1. Corriger la valeur associée à la clé \"RAM\" pour qu’elle devienne \"32G\".\n",
    "\n",
    "2. Afficher successivement :\n",
    "\n",
    "3. La liste des clés du dictionnaire\n",
    "\n",
    "4. La liste des valeurs\n",
    "\n",
    "5. La liste des paires clé-valeur\n",
    "\n",
    "6. Inverser les paires \"Processeur\" : \"Intel core i7-G11\" et \"Carte Graphique\" : \"GeForce RTX 3070\"\n",
    "\n",
    "7. Ajouter la paire clé-valeur suivante : \"Système d’exploitation\": \"Windows 10\"\n",
    "\n",
    "- *Parti 2:* On considère le dictionnaire suivant dont les clés sont les noms des élèves et les valeurs des clés sont les moyennes générales obtenues en passant l’examen final.\n",
    "\n",
    "<code>notes_eleves = { \"Amine\": 15.5, \"Yassine\": 19.0, \"Reda\": 14.2, \"Malak\": 8.7, \"Manal\": 20.0, \"Ahmed\": 7.5,\"Saad\": 11.3, \"Hannae\": 9.8 }</code>\n",
    "\n",
    "Écrire un programme Python qui partitionne ce dictionnaire en deux sous dictionnaires :\n",
    "\n",
    "* etudiantAdmis dont les clés sont les étudiants admis et les valeurs des clés sont les moyennes obtenues (moyenne supérieures ou égales à 10 ).\n",
    "\n",
    "* etudiantNonAdmis dont les clés sont les étudiants non admis et les valeurs des clés sont les moyennes obtenues (moyenne inférieur ou égale à 10). "
   ]
  },
  {
   "cell_type": "code",
   "execution_count": 51,
   "id": "0fc954a1",
   "metadata": {},
   "outputs": [
    {
     "name": "stdout",
     "output_type": "stream",
     "text": [
      "['Appareil', 'Marque', 'Carte mère', 'Carte Graphique', 'RAM', 'Processeur', 'SSD'] ['Laptop', 'IBM', 'MSI Z490', 'GeForce RTX 3070', '32G', 'Intel core i7-G11', '1 To']\n",
      "{'Appareil': 'Laptop', 'Marque': 'IBM', 'Carte mère': 'MSI Z490', 'RAM': '32G', 'SSD': '1 To', 'GeForce RTX 3070': 'Carte Graphique', 'Intel core i7-G11': 'Processeur'}\n",
      "{'Appareil': 'Laptop', 'Marque': 'IBM', 'Carte mère': 'MSI Z490', 'RAM': '32G', 'SSD': '1 To', 'GeForce RTX 3070': 'Carte Graphique', 'Intel core i7-G11': 'Processeur', \"Systeme D'exploitation\": 'Windows 10'}\n",
      "{'Amine': 15.5, 'Yassine': 19.0, 'Reda': 14.2, 'Manal': 20.0, 'Saad': 11.3} {'Malak': 8.7, 'Ahmed': 7.5, 'Hannae': 9.8}\n",
      "{'etudiantAdmis': {'Amine': 15.5, 'Yassine': 19.0, 'Reda': 14.2, 'Manal': 20.0, 'Saad': 11.3}, 'eturdiantNonAdmis': {'Malak': 8.7, 'Ahmed': 7.5, 'Hannae': 9.8}}\n"
     ]
    }
   ],
   "source": [
    "#  Écrivez du code Python ici\n",
    "First_dict = { \"Appareil\": \"Laptop\", \"Marque\": \"IBM\", \"Carte mère\": \"MSI Z490\", \"Carte Graphique\":\"GeForce RTX 3070\",\n",
    "               \"RAM\": \"16G\", \"Processeur\": \"Intel core i7-G11\", \"SSD\": \"1 To\" }\n",
    "# exirce 1\n",
    "First_dict[\"RAM\"] = \"32G\"\n",
    "# exirce 2 and 3  \n",
    "Keys_list = [] \n",
    "values_list = []\n",
    "for i in First_dict   : \n",
    "    Keys_list.append(i) \n",
    "    values_list.append(First_dict[i])\n",
    "print(Keys_list , values_list)\n",
    "# exirsice 4\n",
    "# print(First_dict)\n",
    "for i  in First_dict : \n",
    "    if i == \"Processeur\" or i == \"Carte Graphique\" :\n",
    "        x =  First_dict[i]\n",
    "        First_dict[x]  , First_dict[x]  = First_dict.pop(i)  , i\n",
    "        First_dict[i] = i\n",
    "        First_dict[x] = First_dict.pop(i)\n",
    "\n",
    "print(First_dict)\n",
    "# print()\n",
    "# x = First_dict[\"Processeur\"]\n",
    "# First_dict[x]  , First_dict[x]  = First_dict.pop(\"Processeur\")  , \"Processeur\"\n",
    "# # First_dict[x] = \"Processeur\"\n",
    "\n",
    "# exirsice 5  \n",
    "First_dict[\"Systeme D'exploitation\"] = \"Windows 10\"\n",
    "print(First_dict)\n",
    "# exircice 6 \n",
    "notes_eleves = { \"Amine\": 15.5, \"Yassine\": 19.0, \"Reda\": 14.2, \"Malak\": 8.7, \"Manal\": 20.0, \"Ahmed\": 7.5,\"Saad\": 11.3, \"Hannae\": 9.8 }\n",
    "nested_passed_students = { }\n",
    "etudiantAdmis = {} \n",
    "eturdiantNonAdmis = {}\n",
    "for i in notes_eleves :\n",
    "    if notes_eleves[i] > 10 :   \n",
    "        etudiantAdmis.update({ i  : notes_eleves[i]})\n",
    "    else :\n",
    "        eturdiantNonAdmis.update({ i  : notes_eleves[i]})\n",
    "nested_passed_students[\"etudiantAdmis\"] = etudiantAdmis \n",
    "nested_passed_students[\"eturdiantNonAdmis\"] = eturdiantNonAdmis\n",
    "print( etudiantAdmis , eturdiantNonAdmis )\n",
    "print( nested_passed_students )\n",
    "\n",
    "\n",
    "\n",
    "\n"
   ]
  },
  {
   "cell_type": "markdown",
   "id": "7ab8effa",
   "metadata": {},
   "source": [
    "<H3><span style=\"font-weight: bold; color: #1a8bcdff;\">Challenge 2 : Mise à Jour de Dictionnaires</span></H3>\n",
    "\n",
    "1. <span style=\"font-weight: bold; color: #e56922ff;\">Objectif</span> : </br>\n",
    "Fusionner plusieurs dictionnaires en un seul.\n",
    "\n",
    "2. <span style=\"font-weight: bold; color: #e56922ff;\">Travail à faire</span>:</br>\n",
    "* Utilisez update() pour fusionner trois dictionnaires différents.\n",
    "* Affichez le dictionnaire final avec toutes les clés et valeurs combinées.\n"
   ]
  },
  {
   "cell_type": "code",
   "execution_count": null,
   "id": "85cd8892",
   "metadata": {},
   "outputs": [],
   "source": [
    "#  Écrivez du code Python ici\n",
    "First_dict = {\"ascacs\" : 1 , \"rca\" : 2} \n",
    "Second_dict = {\"ascacs\" : 1 , \"rl\" : 3} \n",
    "Third_dict = {\"ascacs\" : 1 , \"rc12\" : 9}\n",
    "matched_key_value = {}\n",
    "for i in First_dict : \n",
    "    if(i , First_dict[i]) in Second_dict.items() : \n",
    "        if(i , First_dict[i]) in Second_dict.items() :\n",
    "            matched_key_value.update( {i  : First_dict[i]})\n",
    "print(matched_key_value)\n"
   ]
  },
  {
   "cell_type": "markdown",
   "id": "c5dd1c26",
   "metadata": {},
   "source": [
    "<H3><span style=\"font-weight: bold; color: #1a8bcdff;\">Challenge 3 : Conversion de Deux Listes en Dictionnaire</span></H3>\n",
    "\n",
    "1. <span style=\"font-weight: bold; color: #e56922ff;\">Objectif</span> : </br>\n",
    "Créer un dictionnaire à partir de deux listes (une pour les clés, une pour les valeurs).\n",
    "\n",
    "2. <span style=\"font-weight: bold; color: #e56922ff;\">Travail à faire</span>:</br>\n",
    "* Utilisez zip() pour combiner les deux listes.\n",
    "* Convertissez le résultat en dictionnaire.\n",
    "* Affichez le dictionnaire créé.\n",
    "\n"
   ]
  },
  {
   "cell_type": "code",
   "execution_count": null,
   "id": "2663dae7",
   "metadata": {},
   "outputs": [],
   "source": [
    "#  Écrivez du code Python ici\n",
    "names  =  [\"Amir\" , \"younes\" , \"khaldi\"]\n",
    "values  = [ 12 , 10 , 18 ] \n",
    "list =  zip ( names ,  values ) \n",
    "dict = dict(list)\n",
    "print(dict)"
   ]
  },
  {
   "cell_type": "code",
   "execution_count": null,
   "id": "09480797",
   "metadata": {},
   "outputs": [
    {
     "name": "stdout",
     "output_type": "stream",
     "text": [
      "[('mohammed', 12), ('cristiano', 100), ('Khafifi', 120)]\n",
      "[('Khafifi', 120), ('cristiano', 100), ('mohammed', 12)]\n",
      "{'Khafifi': 120, 'cristiano': 100, 'mohammed': 12}\n"
     ]
    }
   ],
   "source": [
    "#  Écrivez du code Python ici\n",
    "list_names = [\"mohammed\" , \"cristiano\" , \"Khafifi\"]\n",
    "list_values = [12 , 100 , 120]\n",
    "Unsorted_dict =  dict(zip(list_names , list_values))\n",
    "list1 = list(Unsorted_dict.items())\n",
    "print(list1)  \n",
    "for i in range(len(list1)):\n",
    "    for j in range(len(list1)) :\n",
    "        if list1[i][1] > list1[j][1] : \n",
    "            x = list1[i]\n",
    "            list1[i] = list1[j]\n",
    "            list1[j] = x  \n",
    "print(dict(list1))"
   ]
  },
  {
   "cell_type": "markdown",
   "id": "2c429ffc",
   "metadata": {},
   "source": [
    "\n",
    "<H3><span style=\"font-weight: bold; color: #1a8bcdff;\">Challenge 5 : Manipulation de tuples </span></H3>\n",
    "\n",
    "1. <span style=\"font-weight: bold; color: #e56922ff;\">Objectif</span> : </br>\n",
    "Comprendre la structure des tuples, leur immutabilité, et leur utilisation pour stocker des données groupées et ordonnées.\n",
    "\n",
    "2. <span style=\"font-weight: bold; color: #e56922ff;\">Travail à faire</span>:</br>\n",
    "* Crée un tuple nommé etudiant_info contenant les informations suivantes dans cet ordre : Prénom : \"Yasmine\", Âge : 22, Filière : \"Informatique\", Moyenne générale : 17.4\n",
    "* Affiche les informations stockées dans le tuple, une par ligne, avec un texte explicite. (ex: “Prénom : Yasmine”)\n",
    "* Tente de modifier la filière dans le tuple. Que se passe-t-il ? Explique pourquoi.\n",
    "* Utilise l'opérateur de slicing pour afficher uniquement le prénom et l'âge.\n",
    "* Crée un nouveau tuple en combinant etudiant_info avec un second tuple contenant la mention \"Très Bien\" et l’année d’obtention du diplôme (2024), puis affiche le tuple final."
   ]
  },
  {
   "cell_type": "code",
   "execution_count": 26,
   "id": "1e59354d",
   "metadata": {},
   "outputs": [
    {
     "name": "stdout",
     "output_type": "stream",
     "text": [
      "prenome :  Yasmine  age :  22\n",
      "((('Prenom', 'Yasmine'), ('mention', 'Tres Bien')), (('Age', 22), ('obtaining year', 2024)))\n"
     ]
    }
   ],
   "source": [
    "#  Écrivez du code Python ici\n",
    "etudiant_info =  ((\"Prenom\" , \"Yasmine\"), \n",
    "                  (\"Age\" , 22 ), \n",
    "                  (\"Filiere\" , \"Informatique\"), \n",
    "                  (\"Moyen Genrale\" , 17.4))\n",
    "unested_tuple = ()\n",
    "print(\"prenome : \" ,  etudiant_info[0][1] ,  \" age : \" , etudiant_info[1][1] )\n",
    "new_tuple = ((\"mention\" , \"Tres Bien\") , (\"obtaining year\", 2024))\n",
    "new_tuple = tuple(zip(etudiant_info , new_tuple))\n",
    "print(new_tuple)\n"
   ]
  },
  {
   "cell_type": "markdown",
   "id": "bdb88a19",
   "metadata": {},
   "source": []
  }
 ],
 "metadata": {
  "kernelspec": {
   "display_name": "Python 3",
   "language": "python",
   "name": "python3"
  },
  "language_info": {
   "codemirror_mode": {
    "name": "ipython",
    "version": 3
   },
   "file_extension": ".py",
   "mimetype": "text/x-python",
   "name": "python",
   "nbconvert_exporter": "python",
   "pygments_lexer": "ipython3",
   "version": "3.13.7"
  }
 },
 "nbformat": 4,
 "nbformat_minor": 5
}
