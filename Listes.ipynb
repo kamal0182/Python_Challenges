{
 "cells": [
  {
   "cell_type": "markdown",
   "id": "b44d4791",
   "metadata": {},
   "source": [
    "<center>\n",
    "<H1><span style=\"text-align: center; font-weight: bold; color: #746bb3ff;\">Les Listes</span></H1>\n",
    "</center>"
   ]
  },
  {
   "cell_type": "markdown",
   "id": "b9c93591",
   "metadata": {},
   "source": [
    "<H3><span style=\"font-weight: bold ; color: #19b7f1ff\">Les ressources: </span></H3> \n",
    "\n",
    "* [Python Lists and List Manipulation](https://realpython.com/python-lists-tuples/)\n",
    "* [Documentation Officielle de Python - Structures de données - Listes](https://docs.python.org/fr/3/tutorial/datastructures.html#more-on-lists)\n"
   ]
  },
  {
   "cell_type": "markdown",
   "id": "873352ef",
   "metadata": {},
   "source": [
    "<H3><span style=\"font-weight: bold; color: #1a8bcdff;\">Challenge 1 : La liste des notes </span></H3>\n",
    "\n",
    "<center><code>notes = [12, 4, 14, 11, 18, 13, 7, 10, 5, 9, 15, 8, 14, 16]</code></center>\n",
    "\n",
    "<span style=\"font-weight: bold; color: #e56922ff;\">Travail à faire</span>:</br>\n",
    "Écris un programme en Python qui extrait toutes les notes supérieures à la moyenne et les stocke dans une nouvelle liste."
   ]
  },
  {
   "cell_type": "code",
   "execution_count": null,
   "id": "08a09dc2",
   "metadata": {},
   "outputs": [],
   "source": [
    "#  Écrivez du code Python ici\n",
    "notes = [12, 4, 14, 11, 18, 13, 7, 10, 5, 9, 15, 8, 14, 16] \n",
    "moyenne = 0\n",
    "for i in notes :\n",
    "    moyenne += i \n",
    "moyenne = moyenne / len(notes)\n",
    "new_notes = []\n",
    "for i in notes : \n",
    "    if i > moyenne :\n",
    "        new_notes.append(i)\n",
    "print(new_notes)"
   ]
  },
  {
   "cell_type": "markdown",
   "id": "87452d02",
   "metadata": {},
   "source": [
    "\n",
    "<H3><span style=\"font-weight: bold; color: #1a8bcdff;\">Challenge 2 : Les mots communs</span></H3>\n",
    "\n",
    "<center><code>\n",
    "Ch1 = \"Le langage Python est très populaire\" <br>\n",
    "Ch2 = \"Python est un langage puissant\"\n",
    "        </code></center>\n",
    "\n",
    "<span style=\"font-weight: bold; color: #e56922ff;\">Travail à faire</span>:</br>\n",
    "Écris un programme en Python qui permet de regrouper dans une liste les mots communs entre deux chaînes de caractères Ch1 et Ch2."
   ]
  },
  {
   "cell_type": "code",
   "execution_count": null,
   "id": "a640e80e",
   "metadata": {},
   "outputs": [],
   "source": [
    "#  Écrivez du code Python ici\n",
    "Ch1 = \"Le langage Python est très populaire\"\n",
    "Ch2 = \"Python est un langage puissant\"\n",
    "ch1_list = Ch1.split()\n",
    "ch2_list = Ch2.split()\n",
    "commun_words = [] \n",
    "for i  in ch1_list :\n",
    "    for j in ch2_list : \n",
    "        if  i == j : \n",
    "            commun_words.append(i)\n",
    "            \n",
    "print(commun_words)"
   ]
  },
  {
   "cell_type": "markdown",
   "id": "5d74627c",
   "metadata": {},
   "source": [
    "\n",
    "<H3><span style=\"font-weight: bold; color: #1a8bcdff;\">Challenge 3 : Manipulation et tri de listes mixtes</span></H3>\n",
    "\n",
    "<center><code>\n",
    "stock = [\"Stylo\", 25, \"Classeur\", 100, \"Crayon\", 12, \"Surligneur\", 40, \"Feutre\", 5]\n",
    "        </code></center>\n",
    "\n",
    "<span style=\"font-weight: bold; color: #e56922ff;\">Travail à faire</span>:</br>\n",
    " Écris un programme Python qui effectue les opérations suivantes à partir de la liste stock :\n",
    "\n",
    " 1. Afficher la liste initiale.\n",
    "2. Créer deux nouvelles listes :\n",
    "\n",
    "* une contenant uniquement les chaînes de caractères,\n",
    "\n",
    "* l’autre contenant uniquement les valeurs numériques.\n",
    "\n",
    "3. Trier :\n",
    "\n",
    "* la liste des chaînes en ordre croissant (alphabétique),\n",
    "\n",
    "* la liste des nombres en ordre décroissant.\n",
    "\n",
    "4. Afficher les deux listes triées."
   ]
  },
  {
   "cell_type": "code",
   "execution_count": null,
   "id": "67b9949c",
   "metadata": {},
   "outputs": [],
   "source": [
    "#  Écrivez du code Python ici\n",
    "stock = [\"Stylo\", 25, \"Classeur\", 100, \"Crayon\", 12, \"Surligneur\", 40, \"Feutre\", 5]\n",
    "words = []\n",
    "numbers  = []\n",
    "for i in stock : \n",
    "    if type(i) == str :\n",
    "        words.append(i)\n",
    "    else : \n",
    "        numbers.append(i)\n",
    "for i in range(len(numbers)) :\n",
    "    for j in range (len(numbers)) :\n",
    "        if numbers[i] <  numbers[j] :\n",
    "            x = numbers [j] \n",
    "            numbers[j] = numbers[i] \n",
    "            numbers[i]  =  x \n",
    "for i in range (len(words)) :\n",
    "    for j in range(len(words)) :\n",
    "        if words[i] > words [j] :\n",
    "            word = words[i] \n",
    "            words[i] =  words[j]\n",
    "            words[j] =  word\n",
    "print(words, numbers) "
   ]
  },
  {
   "cell_type": "markdown",
   "id": "fe0eccef",
   "metadata": {},
   "source": [
    "\n",
    "<H3><span style=\"font-weight: bold; color: #1a8bcdff;\">Challenge 4 : Recherche d’un élément dans une liste </span></H3>\n",
    "\n",
    "<center><code>Fruits = [\"pomme\", \"banane\", \"orange\", \"kiwi\", \"mangue\"]</code></center>\n",
    "\n",
    "<span style=\"font-weight: bold; color: #e56922ff;\">Travail à faire</span>:</br>\n",
    "Créer une fonction « rechercheElement » qui a pour paramètres un élément et une liste et qui renvoie False si l’élément n’est pas dans la liste, ou l’indice de l’élément dans le cas contraire."
   ]
  },
  {
   "cell_type": "code",
   "execution_count": null,
   "id": "b6d66015",
   "metadata": {},
   "outputs": [],
   "source": [
    "#  Écrivez du code Python ici\n",
    "Fruits = [\"pomme\", \"banane\", \"orange\", \"kiwi\", \"mangue\"] \n",
    "user_input = input(\"enter a word : \")\n",
    "verifier = False\n",
    "for i in Fruits : \n",
    "    if user_input == i :\n",
    "        verifier = True \n",
    "        break\n",
    "if verifier  == True :\n",
    "    print(\"it's exists\") \n",
    "else : \n",
    "    print(\"doesn't exists\")"
   ]
  },
  {
   "cell_type": "markdown",
   "id": "ce9ba959",
   "metadata": {},
   "source": [
    "<H3><span style=\"font-weight: bold; color: #1a8bcdff;\">Challenge 5 : Nombre d'occurrences </span></H3>\n",
    "\n",
    "<center><code>L = [7 , 23 , 5 , 23 , 7 , 19 , 23 , 12 , 29]</code></center>\n",
    "\n",
    "<span style=\"font-weight: bold; color: #e56922ff;\">Travail à faire</span>:</br>\n",
    "Écrire un algorithme en python qui renvoie le nombre d'occurrences d'un élément a dans une liste L donnée sans utiliser aucune fonction prédéfinie en Python."
   ]
  },
  {
   "cell_type": "code",
   "execution_count": null,
   "id": "fb150eca",
   "metadata": {},
   "outputs": [],
   "source": [
    "#  Écrivez du code Python ici\n",
    "L = [7 , 23 , 5 , 23 , 7 , 19 , 23 , 12 , 29]\n",
    "user_input = int(input(\"enter a number : \"))\n",
    "counter = 0 \n",
    "for i in L :\n",
    "    if i == user_input :\n",
    "        counter +=1 \n",
    "print(\"Nombre d'occurrences : \" , counter)"
   ]
  },
  {
   "cell_type": "markdown",
   "id": "e8fb0d93",
   "metadata": {},
   "source": []
  }
 ],
 "metadata": {
  "language_info": {
   "name": "python"
  }
 },
 "nbformat": 4,
 "nbformat_minor": 5
}
