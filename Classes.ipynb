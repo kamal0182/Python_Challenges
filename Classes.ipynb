{
 "cells": [
  {
   "cell_type": "markdown",
   "id": "08fd1dc2",
   "metadata": {},
   "source": [
    "\n",
    "<center>\n",
    "<H1><span style=\"text-align: center; font-weight: bold; color: #746bb3ff;\">Les Classes</span></H1>\n",
    "</center>"
   ]
  },
  {
   "cell_type": "markdown",
   "id": "e63c58e8",
   "metadata": {},
   "source": [
    "<H3><span style=\"font-weight: bold ; color: #19b7f1ff\">Les ressources: </span></H3> \n",
    "\n",
    "\n",
    "* [Documentation Officielle](https://docs.python.org/fr/3/tutorial/classes.html)\n",
    "* [Object-Oriented Programming (OOP)](https://realpython.com/python3-object-oriented-programming/)"
   ]
  },
  {
   "cell_type": "markdown",
   "id": "c6010b61",
   "metadata": {},
   "source": [
    "\n",
    "<H3><span style=\"font-weight: bold; color: #1a8bcdff;\">Challenge 1 : Gestion d’un compte bancaire en POO</span></H3>\n",
    "\n",
    "1. <span style=\"font-weight: bold; color: #e56922ff;\">Objectif</span> : </br>\n",
    "S’initier à la programmation orientée objet avec Python à travers la création d’une classe, la manipulation des attributs et l’appel de méthodes. Ce challenge permet de comprendre l'encapsulation des données et les actions associées à un objet.\n",
    "\n",
    "2. <span style=\"font-weight: bold; color: #e56922ff;\">Travail à faire</span>:</br>\n",
    "Crée une classe CompteBancaire avec les caractéristiques suivantes :\n",
    "1. Attributs :<br>\n",
    "* nom_proprietaire (chaîne)<br>\n",
    "* solde (float, initialisé à 0.0 par défaut)<br>\n",
    "2. Méthodes :\n",
    "*  __init__() : initialise le compte avec le nom du propriétaire et un solde optionnel.\n",
    "* deposer(montant) : ajoute le montant au solde.\n",
    "* retirer(montant) : retire le montant du solde si suffisant, sinon affiche un message d’erreur.\n",
    "* afficher_solde() : affiche le nom du propriétaire et le solde actuel."
   ]
  },
  {
   "cell_type": "code",
   "execution_count": 50,
   "id": "c1fdbf5b",
   "metadata": {},
   "outputs": [
    {
     "name": "stdout",
     "output_type": "stream",
     "text": [
      " nome  : brahim  and solde : 0.3999999999999986\n"
     ]
    }
   ],
   "source": [
    "#  Écrivez du code Python ici\n",
    "class CompteBancaire :\n",
    "    solde = 0.0 \n",
    "    def __init__(self , name1 : str , solde1 = 0.0 ):\n",
    "        # self.nom_proprietaire = self.nom_proprietaire1\n",
    "        self.name = name1\n",
    "        self.solde = solde1\n",
    "    def __str__(self):\n",
    "        return f\" nome  : {self.name}  and solde : {self.solde}\"\n",
    "    def add (self , amount) : \n",
    "        self.solde += amount \n",
    "        return self.solde\n",
    "    def retire (self  , amount : float) :\n",
    "            if (self.solde >  amount) :\n",
    "                self.solde -= amount\n",
    "                return self.solde\n",
    "            raise ValueError (\"you dont have this amount in your acount\")\n",
    "    def affiche_solde(self) :\n",
    "        return f\"you sold is : {self.solde}\" \n",
    "class Test :\n",
    "    def test() :\n",
    "        compte = CompteBancaire(\"brahim\" , 20.5)\n",
    "        compte.add(20.4)\n",
    "        print(compte)\n",
    "        compte.retire(30.5)\n",
    "compte = CompteBancaire(\"brahim\" , 20.5)\n",
    "compte.add(20.4)\n",
    "compte.retire(40.5) \n",
    "print(compte)"
   ]
  },
  {
   "cell_type": "markdown",
   "id": "c72d3084",
   "metadata": {},
   "source": [
    "<H3><span style=\"font-weight: bold; color: #1a8bcdff;\">Challenge 2 : Système de gestion d’école </span></H3>\n",
    "\n",
    "1. <span style=\"font-weight: bold; color: #e56922ff;\">Objectif</span> : </br>\n",
    "Mettre en pratique les concepts fondamentaux de la POO à travers la modélisation d’un système scolaire. Ce challenge permet de manipuler les classes, l’héritage, le polymorphisme, l'encapsulation, les propriétés et les méthodes abstraites.\n",
    "\n",
    "2. <span style=\"font-weight: bold; color: #e56922ff;\">Travail à faire</span>:</br>\n",
    "* Classe abstraite Personne (à l'aide du module abc):\n",
    "1. Attributs : nom, prenom, age\n",
    "2. Méthode abstraite : afficher_infos()\n",
    "* Classe Etudiant héritée de Personne\n",
    "1. Attributs supplémentaires : matricule, notes (liste de floats)\n",
    "2. Méthodes : ajouter_note(note), moyenne(), afficher_infos() (redéfinition)\n",
    "* Classe Enseignant héritée de Personne\n",
    "1. Attributs supplémentaires : specialite, salaire\n",
    "2. Méthode afficher_infos() (redéfinition) @property et @setter pour sécuriser l’accès/modification du salaire\n",
    "* Classe Ecole\n",
    "1. Attributs : nom, liste_etudiants (liste d’objets Etudiant), liste_enseignants (liste d’objets Enseignant)\n",
    "2. Méthodes :ajouter_etudiant(etudiant), ajouter_enseignant(enseignant), afficher_tous_les_membres() (polymorphisme via afficher_infos())\n"
   ]
  },
  {
   "cell_type": "code",
   "execution_count": null,
   "id": "f81f7266",
   "metadata": {},
   "outputs": [],
   "source": [
    "#  Écrivez du code Python ici\n",
    "from abc import ABC, abstractmethod\n",
    "class Perssone(ABC) :\n",
    "    fname : str \n",
    "    lname : str \n",
    "    user_age : int\n",
    "    def __init__(self , first_name : str  , last_name: str , user_age : int) :\n",
    "        self.fname  = first_name\n",
    "        self.lname = last_name\n",
    "        self.age = user_age\n",
    "    @abstractmethod\n",
    "    def show_info() : \n",
    "        pass \n",
    "class Student(Perssone) :\n",
    "    matricule_std : int \n",
    "    notes_std : list \n",
    "    def __init__(self, first_name, last_name, user_age , matricule_std : str  , notes_std : list) :\n",
    "        super().__init__(first_name, last_name, user_age)\n",
    "        self.matricule = matricule_std\n",
    "        self.notes = notes_std\n",
    "    def add_Note(self , note: float ) :\n",
    "         self.notes.append(note)\n",
    "    def moyenne(self) :\n",
    "        result = 0\n",
    "        for i in self.notes :\n",
    "            result += i\n",
    "        return result / len(self.notes)\n",
    "    def show_info(self) :\n",
    "        return f\"name : {self.fname}  and lastname : {self.lname} and  you are {self.age} years old\"  \n",
    "class Enseignant(Perssone) :\n",
    "    __specialite : str\n",
    "    __salaire  : float  \n",
    "    def __init__(self, first_name, last_name, user_age ,ens_Salaire , ens_specialite):\n",
    "        super().__init__(first_name, last_name, user_age )\n",
    "        self.__specialite = ens_specialite\n",
    "        self.__salaire = ens_Salaire\n",
    "    @property\n",
    "    def salaire(self) :\n",
    "        return self.__specialite\n",
    "    @salaire.setter \n",
    "    def Salaire_Setter(self , user_specialite ) :\n",
    "        self.__specialite  = user_specialite\n",
    "    @property\n",
    "    def salaire(self ) :\n",
    "        return self.__salaire\n",
    "    @salaire.setter \n",
    "    def specialite(self , slave_sallary ) :\n",
    "        self.__salaire = slave_sallary \n",
    "    def show_info(self)  :\n",
    "         return f\"name : {self.fname}  and lastname : {self.lname} and  you are {self.age} years old and salary {self.salaire} and specialite : {self.__specialite}\"  \n",
    "class Ecole() :\n",
    "    nome : str \n",
    "    students : list \n",
    "    enseignants : list \n",
    "    def __init__(self , schoole_name):\n",
    "        self.name = schoole_name\n",
    "    def add_Student(self , student : Student ) :\n",
    "        self.students.append(Student)\n",
    "    def add_Enseignant(self ,  enseignant : Enseignant) :\n",
    "        self.enseignants.append(enseignant)\n",
    "    def showAllMembers(self) :\n",
    "        print(\"Students : \")\n",
    "        for i in self.students :\n",
    "            print(i.fname )\n",
    "        for i in self.enseignants :\n",
    "            print(i.fname )\n"
   ]
  },
  {
   "cell_type": "markdown",
   "id": "a1cbceac",
   "metadata": {},
   "source": []
  }
 ],
 "metadata": {
  "kernelspec": {
   "display_name": "Python 3",
   "language": "python",
   "name": "python3"
  },
  "language_info": {
   "codemirror_mode": {
    "name": "ipython",
    "version": 3
   },
   "file_extension": ".py",
   "mimetype": "text/x-python",
   "name": "python",
   "nbconvert_exporter": "python",
   "pygments_lexer": "ipython3",
   "version": "3.13.7"
  }
 },
 "nbformat": 4,
 "nbformat_minor": 5
}
