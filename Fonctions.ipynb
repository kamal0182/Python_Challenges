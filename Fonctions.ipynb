{
 "cells": [
  {
   "cell_type": "markdown",
   "id": "21dfa672",
   "metadata": {},
   "source": [
    "<center>\n",
    "<H1><span style=\"text-align: center; font-weight: bold; color: #746bb3ff;\">Les Fonctions</span></H1>\n",
    "</center>"
   ]
  },
  {
   "cell_type": "markdown",
   "id": "4280dbf3",
   "metadata": {},
   "source": [
    "<H3><span style=\"font-weight: bold ; color: #19b7f1ff\">Les ressources: </span></H3> \n",
    "\n",
    "\n",
    "* [Python Functions](https://realpython.com/defining-your-own-python-function/#abstraction)\n",
    "* [Documentation Officielle de Python](https://docs.python.org/fr/3/tutorial/controlflow.html#defining-functions)"
   ]
  },
  {
   "cell_type": "markdown",
   "id": "e83d584f",
   "metadata": {},
   "source": [
    "<H3><span style=\"font-weight: bold; color: #1a8bcdff;\">Challenge 1 : Présentation personnalisé</span></H3>\n",
    "\n",
    "1. <span style=\"font-weight: bold; color: #e56922ff;\">Objectif</span> : </br>\n",
    "Réutiliser un programme existant (Challenge 2) en le structurant dans une fonction nommée horaire_sup.\n",
    "\n",
    "2. <span style=\"font-weight: bold; color: #e56922ff;\">Travail à faire</span>:</br>\n",
    "Réécris le programme du Challenge 2 dans une fonction appelée horaire_sup."
   ]
  },
  {
   "cell_type": "code",
   "execution_count": null,
   "id": "b3439d44",
   "metadata": {},
   "outputs": [],
   "source": [
    "#  Écrivez du code Python ici\n",
    "def horaire_sup(name , age , salary) :\n",
    "    name = input(\"enter your name : \") \n",
    "    salary  = input(\"enter your salary : \")\n",
    "    salary  = int(salary)\n",
    "    working_hours = input(\"enter the working hours : \") \n",
    "    working_hours = int(working_hours)\n",
    "    amount = (salary )  * (working_hours)\n",
    "\n",
    "    if (working_hours) > 40 : \n",
    "        over_time  = 40 - (working_hours) \n",
    "        amount += (salary * 1.5 ) * over_time\n",
    "    print(\"mr.\" , name , \"your  amount is   : \", amount)\n",
    "horaire_sup(\"canva\" ,140 ,500)"
   ]
  },
  {
   "cell_type": "markdown",
   "id": "77631c7d",
   "metadata": {},
   "source": [
    "<H3><span style=\"font-weight: bold; color: #1a8bcdff;\">Challenge 2 : Fonction calculation() – somme et différence</span></H3>\n",
    "\n",
    "1. <span style=\"font-weight: bold; color: #e56922ff;\">Objectif</span> : </br>\n",
    "Apprendre à écrire une fonction avec plusieurs paramètres et plusieurs valeurs de retour.\n",
    "\n",
    "2. <span style=\"font-weight: bold; color: #e56922ff;\">Travail à faire</span>:</br>\n",
    "Écris une fonction calculation() qui prend deux arguments et calcule leur somme ainsi que leur différence. La fonction doit ensuite retourner les deux résultats dans une seule instruction return."
   ]
  },
  {
   "cell_type": "code",
   "execution_count": null,
   "id": "323a8b4a",
   "metadata": {},
   "outputs": [],
   "source": [
    "#  Écrivez du code Python ici\n",
    "def somme_and_diffrence (a,b) :\n",
    "    somme = a+b \n",
    "    diffrence = a- b\n",
    "    return  \"somme : \", somme  , \" and diffrence : \" , diffrence\n",
    "print(somme_and_diffrence(10 , 5)) "
   ]
  },
  {
   "cell_type": "markdown",
   "id": "c2081304",
   "metadata": {},
   "source": [
    "<H3><span style=\"font-weight: bold; color: #1a8bcdff;\">Challenge 3 : Mini-projets algorithmiques regroupés</span></H3>\n",
    "\n",
    "1. <span style=\"font-weight: bold; color: #e56922ff;\">Objectif</span> : </br>\n",
    "Développer plusieurs petites fonctions indépendantes, chacune ciblant une compétence précise\n",
    "\n",
    "2. <span style=\"font-weight: bold; color: #e56922ff;\">Travail à faire</span>:</br>\n",
    "- Demander à l’utilisateur de saisir un nombre entier n et afficher la factorielle de ce nombre (n!).\n",
    "- Demander à l’utilisateur un nombre entier m et afficher sa table de multiplication de 1 à 10.\n",
    "- Demander à l’utilisateur un nombre entier L et indiquer s’il s’agit d’un carré parfait.\n",
    "- Demander une chaîne de caractères à l’utilisateur, puis afficher chaque caractère un par un.\n",
    "- Demander une phrase à l’utilisateur et afficher le mot le plus long de cette phrase.\n",
    "- Demander une chaîne de caractères Ch et afficher le nombre d’occurrences de chaque caractère. Exemple : Pour Ch = “artificial intelligence developer” \n",
    "- Le programme doit afficher : Le caractère \"i\" figure 5 fois dans la chaîne Ch."
   ]
  },
  {
   "cell_type": "code",
   "execution_count": null,
   "id": "a06adf5c",
   "metadata": {},
   "outputs": [],
   "source": [
    "#  Écrivez du code Python ici\n",
    "import math \n",
    "def carre_parfait(number)  :\n",
    "  x =  math.sqrt(number) \n",
    "  X = str(x)\n",
    "  if X[2] == \"0\" and len(X) == 3 :\n",
    "      print(\"it's integer\")\n",
    "carre_parfait(9)\n",
    "def factorial(number) :\n",
    "    factorial = 1  \n",
    "    for i in range(1 , number+1) :\n",
    "        factorial *= i \n",
    "    print(factorial)\n",
    "factorial(4)\n",
    "# def \n",
    "def table_de_multiplication(number): \n",
    "    for i in range(11):\n",
    "        print(i , \" * \" , number , \" =  \", i * number)\n",
    "table_de_multiplication(4)\n",
    "def spelling(word) :\n",
    "    length = len(word)\n",
    "    print(length)\n",
    "    for i in range(length):\n",
    "        if  word[i] == \" \":\n",
    "            continue\n",
    "        print(word[i])\n",
    "spelling(\"younes\")\n",
    "def print_longhest_word(phrase) :\n",
    "    splitted_list = phrase.split()\n",
    "    index = 0\n",
    "    max_length = 1\n",
    "    for i in splitted_list :\n",
    "        if  len(i) > max_length :\n",
    "            max_length = len(i) \n",
    "            index = i\n",
    "    print(index)\n",
    "print_longhest_word(\"ascjasckasc is my last name\")\n",
    "def nombre_doccurrences(p) :\n",
    "    length = len(p)\n",
    "    d = { }\n",
    "    for i in range(length) :\n",
    "        if  p[i] == \" \" :\n",
    "            continue \n",
    "        if  p[i]  in d.keys():\n",
    "            d[p[i]]  += 1 \n",
    "        else :\n",
    "            d.update({p[i] : 1 })\n",
    "    print(d)\n",
    "nombre_doccurrences(\"rtificial intelligence developer\") "
   ]
  }
 ],
 "metadata": {
  "language_info": {
   "name": "python"
  }
 },
 "nbformat": 4,
 "nbformat_minor": 5
}
